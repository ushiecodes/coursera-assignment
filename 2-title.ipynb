{
 "cells": [
  {
   "cell_type": "markdown",
   "id": "b712dcea-7f3c-451c-8b12-351e31f1c221",
   "metadata": {},
   "source": [
    "## Introduction\n",
    "This notebook demonstrates the skills learned throughout the Data Science course, covering languages, libraries, and basic arithmetic operations.\n"
   ]
  },
  {
   "cell_type": "code",
   "execution_count": null,
   "id": "b31e5bb2-2f72-441a-9ba9-b35e9dd52528",
   "metadata": {},
   "outputs": [],
   "source": []
  }
 ],
 "metadata": {
  "kernelspec": {
   "display_name": "Python 3 (ipykernel)",
   "language": "python",
   "name": "python3"
  },
  "language_info": {
   "codemirror_mode": {
    "name": "ipython",
    "version": 3
   },
   "file_extension": ".py",
   "mimetype": "text/x-python",
   "name": "python",
   "nbconvert_exporter": "python",
   "pygments_lexer": "ipython3",
   "version": "3.12.2"
  }
 },
 "nbformat": 4,
 "nbformat_minor": 5
}
