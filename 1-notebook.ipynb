{
 "cells": [
  {
   "cell_type": "markdown",
   "id": "fedbd965-a8cf-4e31-8c89-3de092c21f1d",
   "metadata": {},
   "source": [
    "# Data Science Final Assignment\n"
   ]
  },
  {
   "cell_type": "code",
   "execution_count": null,
   "id": "01da3527-a668-4861-93dc-81fe3ab0d552",
   "metadata": {},
   "outputs": [],
   "source": []
  }
 ],
 "metadata": {
  "kernelspec": {
   "display_name": "Python 3 (ipykernel)",
   "language": "python",
   "name": "python3"
  },
  "language_info": {
   "codemirror_mode": {
    "name": "ipython",
    "version": 3
   },
   "file_extension": ".py",
   "mimetype": "text/x-python",
   "name": "python",
   "nbconvert_exporter": "python",
   "pygments_lexer": "ipython3",
   "version": "3.12.2"
  }
 },
 "nbformat": 4,
 "nbformat_minor": 5
}
