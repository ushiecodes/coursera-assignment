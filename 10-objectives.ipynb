{
 "cells": [
  {
   "cell_type": "markdown",
   "id": "a388d5a5-96ce-4a63-ab87-e4664b8e9033",
   "metadata": {},
   "source": [
    "## Objectives\n",
    "- Understand data science tools and libraries\n",
    "- Perform basic arithmetic operations in Python\n",
    "- Convert units of time\n"
   ]
  },
  {
   "cell_type": "code",
   "execution_count": null,
   "id": "b81c458f-144b-44e4-9a48-88a54574d076",
   "metadata": {},
   "outputs": [],
   "source": []
  }
 ],
 "metadata": {
  "kernelspec": {
   "display_name": "Python 3 (ipykernel)",
   "language": "python",
   "name": "python3"
  },
  "language_info": {
   "codemirror_mode": {
    "name": "ipython",
    "version": 3
   },
   "file_extension": ".py",
   "mimetype": "text/x-python",
   "name": "python",
   "nbconvert_exporter": "python",
   "pygments_lexer": "ipython3",
   "version": "3.12.2"
  }
 },
 "nbformat": 4,
 "nbformat_minor": 5
}
