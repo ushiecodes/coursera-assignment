{
 "cells": [
  {
   "cell_type": "markdown",
   "id": "33deb725-6e0d-4ae0-980b-dd88481e0099",
   "metadata": {},
   "source": [
    "## Introduction\n",
    "This notebook demonstrates the skills learned throughout the Data Science course, covering languages, libraries, and basic arithmetic operations.\n"
   ]
  }
 ],
 "metadata": {
  "kernelspec": {
   "display_name": "Python 3 (ipykernel)",
   "language": "python",
   "name": "python3"
  },
  "language_info": {
   "codemirror_mode": {
    "name": "ipython",
    "version": 3
   },
   "file_extension": ".py",
   "mimetype": "text/x-python",
   "name": "python",
   "nbconvert_exporter": "python",
   "pygments_lexer": "ipython3",
   "version": "3.12.2"
  }
 },
 "nbformat": 4,
 "nbformat_minor": 5
}
