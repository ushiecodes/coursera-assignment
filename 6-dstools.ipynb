{
 "cells": [
  {
   "cell_type": "markdown",
   "id": "6a0cbaca-a449-446f-b56b-f94a372aa7a4",
   "metadata": {},
   "source": [
    "## Data Science Tools\n",
    "| Tool         | Purpose                                |\n",
    "|--------------|----------------------------------------|\n",
    "| Jupyter      | Interactive development environment    |\n",
    "| GitHub       | Version control and collaboration      |\n",
    "| Apache Spark | Big data processing                    |\n",
    "| Tableau      | Data visualization                     |\n"
   ]
  }
 ],
 "metadata": {
  "kernelspec": {
   "display_name": "Python 3 (ipykernel)",
   "language": "python",
   "name": "python3"
  },
  "language_info": {
   "codemirror_mode": {
    "name": "ipython",
    "version": 3
   },
   "file_extension": ".py",
   "mimetype": "text/x-python",
   "name": "python",
   "nbconvert_exporter": "python",
   "pygments_lexer": "ipython3",
   "version": "3.12.2"
  }
 },
 "nbformat": 4,
 "nbformat_minor": 5
}
