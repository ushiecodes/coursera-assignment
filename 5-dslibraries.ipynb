{
 "cells": [
  {
   "cell_type": "markdown",
   "id": "6088b996-7e8b-428c-9cbd-d5ff13cd6799",
   "metadata": {},
   "source": [
    "## Data Science Libraries\n",
    "- Numpy\n",
    "- Matplotlib\n",
    "- Seaborn\n",
    "- Scikit-learn\n",
    "- Keras\n",
    "- TensorFlow\n",
    "- PyTorch\n",
    "- Apache Spark\n",
    "- Vegas\n",
    "- Big DL\n",
    "- Ggplot2"
   ]
  }
 ],
 "metadata": {
  "kernelspec": {
   "display_name": "Python 3 (ipykernel)",
   "language": "python",
   "name": "python3"
  },
  "language_info": {
   "codemirror_mode": {
    "name": "ipython",
    "version": 3
   },
   "file_extension": ".py",
   "mimetype": "text/x-python",
   "name": "python",
   "nbconvert_exporter": "python",
   "pygments_lexer": "ipython3",
   "version": "3.12.2"
  }
 },
 "nbformat": 4,
 "nbformat_minor": 5
}
