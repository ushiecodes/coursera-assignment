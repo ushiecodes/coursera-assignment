{
 "cells": [
  {
   "cell_type": "markdown",
   "id": "beb6450b-2696-4e15-a9b5-93993ce0180a",
   "metadata": {},
   "source": [
    "## Arithmetic Expressions\n",
    "This section demonstrates simple arithmetic operations in Python.\n"
   ]
  }
 ],
 "metadata": {
  "kernelspec": {
   "display_name": "Python 3 (ipykernel)",
   "language": "python",
   "name": "python3"
  },
  "language_info": {
   "codemirror_mode": {
    "name": "ipython",
    "version": 3
   },
   "file_extension": ".py",
   "mimetype": "text/x-python",
   "name": "python",
   "nbconvert_exporter": "python",
   "pygments_lexer": "ipython3",
   "version": "3.12.2"
  }
 },
 "nbformat": 4,
 "nbformat_minor": 5
}
